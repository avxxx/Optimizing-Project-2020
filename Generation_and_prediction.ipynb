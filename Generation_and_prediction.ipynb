{
  "nbformat": 4,
  "nbformat_minor": 0,
  "metadata": {
    "colab": {
      "name": "Generation_and_prediction.ipynb",
      "provenance": [],
      "collapsed_sections": []
    },
    "kernelspec": {
      "name": "python3",
      "display_name": "Python 3"
    }
  },
  "cells": [
    {
      "cell_type": "code",
      "metadata": {
        "id": "CbV715-I6sUY",
        "colab_type": "code",
        "colab": {}
      },
      "source": [
        "import scipy.stats as sps\n",
        "import numpy as np"
      ],
      "execution_count": 0,
      "outputs": []
    },
    {
      "cell_type": "markdown",
      "metadata": {
        "id": "xvqsCA9nL2Ts",
        "colab_type": "text"
      },
      "source": [
        "В данной части мы генерируем синтетические данные, которые в дальнейшем будут использованы для проверки работы алгоритма."
      ]
    },
    {
      "cell_type": "code",
      "metadata": {
        "id": "ljiBpkWG8mrx",
        "colab_type": "code",
        "colab": {}
      },
      "source": [
        "# количество признаков\n",
        "n = 30\n",
        "# размер выборки\n",
        "m = 100\n",
        "def data_generator(n, m, cov=0.2):\n",
        "  # cov - коэффициент, задающий ковариацию между значениями\n",
        "  # исходная мартица ковариации (может не быть положительно определенной) \n",
        "  pred_C = (1 - cov) * np.eye(n) + cov * np.ones((n, n))\n",
        "  # вектор средних значений\n",
        "  mean = np.zeros((n, ))\n",
        "  # новая матрица ковариации, близкая к исходной, но положительно определенная\n",
        "  # и с более разнообразными собственными значениями\n",
        "  C = np.cov(sps.multivariate_normal(mean, pred_C).rvs(size=m).T)\n",
        "  # поделим строки и стобцы на корень из диагонали чтобы генерируемые Х имели\n",
        "  # единичную дисперсию\n",
        "  diag_sqrt = np.sqrt(np.diag(C))\n",
        "  C = C / diag_sqrt\n",
        "  C = C.T / diag_sqrt\n",
        "  # генерируем выборку - она имеет нулевое матожидание и (почти) единичную \n",
        "  # дисперсию в каждом столбце\n",
        "  X = sps.multivariate_normal(mean, C).rvs(size=m)\n",
        "  # генерируем коэффициенты и делим их на соответствующее число, чтобы в итоге\n",
        "  # дисперсия Z была равна 1\n",
        "  a = sps.uniform(loc=0, scale=1).rvs(n)\n",
        "  a /= (a.dot(a) * (1 - cov) + cov * (a.sum())**2)\n",
        "  # генерируем предсказываемую переменную так, чтобы ее дисперсия была равна 1\n",
        "  # для этого делим на соответствующий коэффициент \n",
        "  Z = X.dot(a) + sps.norm(loc=0, scale=0.1).rvs(size=m)\n",
        "  \n",
        "  return X, Z"
      ],
      "execution_count": 0,
      "outputs": []
    },
    {
      "cell_type": "markdown",
      "metadata": {
        "id": "2RrOVk5HMWAs",
        "colab_type": "text"
      },
      "source": [
        "Далее реализуем метод ForwardRegression и OMP\n"
      ]
    },
    {
      "cell_type": "code",
      "metadata": {
        "id": "Tly8O1cEMVXH",
        "colab_type": "code",
        "colab": {}
      },
      "source": [
        "def Greedy(X, y, model, k, score):\n",
        "  model.fit(X, y)\n",
        "  S = []\n",
        "  n = X.shape[1]\n",
        "  used = np.zeros((n, n))\n",
        "  scores = []\n",
        "  while len(S) < k:\n",
        "    max_score = 0\n",
        "    max_index = 0\n",
        "    for i in range(n):\n",
        "      if i not in S:\n",
        "        used[i, i] = 1\n",
        "        y_pred = model.predict(X.dot(used))\n",
        "        used[i, i] = 0\n",
        "        new_score = score(y, y_pred)\n",
        "        if new_score > max_score:\n",
        "          max_index = i\n",
        "          max_score = new_score\n",
        "    S.append(max_index)\n",
        "    used[max_index, max_index] = 1\n",
        "    scores.append(max_score)\n",
        "  return S, used, np.array(scores)"
      ],
      "execution_count": 0,
      "outputs": []
    },
    {
      "cell_type": "code",
      "metadata": {
        "id": "9mntYTReMRrg",
        "colab_type": "code",
        "colab": {}
      },
      "source": [
        "def ForwardRegression(X, y, model, k):\n",
        "  return Greedy(X, y, model, k, r2_score)"
      ],
      "execution_count": 0,
      "outputs": []
    },
    {
      "cell_type": "code",
      "metadata": {
        "id": "cSXe7vuZPGPr",
        "colab_type": "code",
        "colab": {}
      },
      "source": [
        "def OMP(X, y, model, k, cov_score):\n",
        "  return Greedy(X, y, model, k, cov_score)"
      ],
      "execution_count": 0,
      "outputs": []
    },
    {
      "cell_type": "code",
      "metadata": {
        "id": "S_hdhH5KQLm4",
        "colab_type": "code",
        "colab": {
          "base_uri": "https://localhost:8080/",
          "height": 34
        },
        "outputId": "7def3afb-b4cd-42c2-d8a4-1fdd3b277553"
      },
      "source": [
        "from sklearn.linear_model import LinearRegression\n",
        "from sklearn.metrics import r2_score\n",
        "from tqdm import trange\n",
        "\n",
        "\n",
        "times = 30\n",
        "n = 30\n",
        "m = 100\n",
        "k_max = n // 2\n",
        "results = np.zeros((k_max, ))\n",
        "regression = LinearRegression()\n",
        "for i in trange(times):\n",
        "  x, z = data_generator(n, m)\n",
        "  _, _, scores = ForwardRegression(x, z, regression, k_max)\n",
        "  results += scores\n",
        "results /= times"
      ],
      "execution_count": 120,
      "outputs": [
        {
          "output_type": "stream",
          "text": [
            "100%|██████████| 30/30 [00:04<00:00,  6.36it/s]\n"
          ],
          "name": "stderr"
        }
      ]
    },
    {
      "cell_type": "code",
      "metadata": {
        "id": "_TR9uAvzVPfB",
        "colab_type": "code",
        "colab": {
          "base_uri": "https://localhost:8080/",
          "height": 516
        },
        "outputId": "b0579cf3-89bb-4181-8b7f-82ed712aa1da"
      },
      "source": [
        "from matplotlib import pyplot as plt\n",
        "\n",
        "plt.figure(figsize=(15, 8))\n",
        "\n",
        "plt.plot(range(1, k_max + 1), results, label='Forward Regression')\n",
        "plt.xlabel('k')\n",
        "plt.ylabel(r'$R^2$')\n",
        "plt.title(r\"$R^2$ from num of features\")\n",
        "plt.legend()\n",
        "plt.show()"
      ],
      "execution_count": 121,
      "outputs": [
        {
          "output_type": "display_data",
          "data": {
            "image/png": "[encoded data removed]",
            "text/plain": [
              "<Figure size 1080x576 with 1 Axes>"
            ]
          },
          "metadata": {
            "tags": [],
            "needs_background": "light"
          }
        }
      ]
    }
  ]
}